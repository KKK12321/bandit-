{
 "cells": [
  {
   "cell_type": "code",
   "execution_count": 1,
   "id": "d630d837",
   "metadata": {},
   "outputs": [],
   "source": [
    "#初期化する\n",
    "import math as m\n",
    "import matplotlib.pyplot as plt\n",
    "import numpy as np\n",
    "import decimal\n",
    "import random\n",
    "alpha = 2 \n",
    "a = []\n",
    "theta_ = np.array([3,1])\n",
    "ep = 0.01\n",
    "#8個の行動の特徴量\n",
    "for i in range(8):\n",
    "    a1 = np.cos(i*m.pi/4)\n",
    "    a2 = np.sin(i*m.pi/4)\n",
    "    a_i = [a1,a2]\n",
    "    a_i[0] = float(decimal.Decimal(a_i[0]).quantize(decimal.Decimal('0.01')))\n",
    "    a_i[1] = float(decimal.Decimal(a_i[1]).quantize(decimal.Decimal('0.01')))\n",
    "    a.append(a_i)\n",
    "a = np.array(a)\n",
    "#報酬を計算する\n",
    "r = list(np.dot(a,theta_))\n",
    "r_ = max(r)\n",
    "r_max = r.index(r_)\n",
    "r = np.array(r)"
   ]
  },
  {
   "cell_type": "code",
   "execution_count": 2,
   "id": "0b0a8802",
   "metadata": {},
   "outputs": [],
   "source": [
    "#linucb、thompson sampling、epsilon greedy　アルゴリズムを定義する。\n",
    "def linucb(alpha,a,theta_,r,r_max):\n",
    "    A = np.identity(2)\n",
    "    A_I = np.linalg.inv(A)\n",
    "    b = np.zeros(2)\n",
    "    reg = 0\n",
    "    R = []\n",
    "    R_mean = []\n",
    "    for i in range(10000):\n",
    "        ucb = []\n",
    "        for d in range(8):\n",
    "            w_i = np.dot(A_I,b)\n",
    "            ucb_i = np.dot(a[d],w_i) + alpha*m.sqrt(np.dot(np.dot(a[d],A_I),a[d]))\n",
    "            ucb.append(ucb_i)\n",
    "        a_max = ucb.index(max(ucb))\n",
    "        A += np.mat(a[a_max]).T*np.mat(a[a_max])\n",
    "        A_I = np.linalg.inv(A)\n",
    "        b += a[a_max]*r[a_max]\n",
    "        reg += np.dot(a[r_max]-a[a_max], theta_)\n",
    "        R.append(reg)\n",
    "        if i % 100 == 0 and i != 0:\n",
    "            mean_reg = np.mean(R)\n",
    "            R_mean.append(mean_reg)\n",
    "            R = []\n",
    "    return R_mean, w_i\n",
    "\n",
    "def thompson(a,theta_,r,r_max):\n",
    "    A = np.identity(2)\n",
    "    A_I = np.linalg.inv(A)\n",
    "    b = np.zeros(2)\n",
    "    reg = 0\n",
    "    R = []\n",
    "    R_mean = []\n",
    "    for i in range(10000):\n",
    "        mu = np.dot(A_I,b)\n",
    "        sigma = A_I\n",
    "        w = np.random.multivariate_normal(mu, sigma, size=1)\n",
    "        w = w[0]\n",
    "        at = list(np.dot(a,w))\n",
    "        a_max = at.index(max(at))\n",
    "        A += np.mat(a[a_max]).T*np.mat(a[a_max])\n",
    "        A_I = np.linalg.inv(A)\n",
    "        b += a[a_max]*r[a_max]\n",
    "        reg += np.dot(a[r_max]-a[a_max], theta_)\n",
    "        R.append(reg)\n",
    "        if i % 100 == 0 and i != 0:\n",
    "            mean_reg = np.mean(R)\n",
    "            R_mean.append(mean_reg)\n",
    "            R = []\n",
    "    return R_mean, w\n",
    "\n",
    "def epsilon_greedy(a, theta_,r,r_max,ep):\n",
    "    A = np.identity(2)\n",
    "    A_I = np.linalg.inv(A)\n",
    "    b = np.zeros(2)\n",
    "    reg = 0\n",
    "    R = []\n",
    "    R_mean = []\n",
    "    w_j = np.array([0,0])\n",
    "    for i in range(10000):\n",
    "        ta = list(np.dot(a,w_j))\n",
    "        if random.random() < ep:\n",
    "            a_max = np.random.choice([n for n in range(8)])\n",
    "        else:\n",
    "            a_max = np.random.choice([n for n in range(8) if ta[n] == max(ta)])\n",
    "        A += np.mat(a[a_max]).T*np.mat(a[a_max])\n",
    "        A_I = np.linalg.inv(A)\n",
    "        b += a[a_max]*r[a_max]\n",
    "        w_j = np.dot(A_I,b)\n",
    "        reg += np.dot(a[r_max]-a[a_max], theta_)\n",
    "        R.append(reg)\n",
    "        if i % 100 == 0 and i != 0:\n",
    "            mean_reg = np.mean(R)\n",
    "            R_mean.append(mean_reg)\n",
    "            R = []\n",
    "    return R_mean, w_j\n"
   ]
  },
  {
   "cell_type": "code",
   "execution_count": 3,
   "id": "657fe34c",
   "metadata": {},
   "outputs": [],
   "source": [
    "REG_mean_linucb, w_linucb = linucb(alpha,a,theta_,r,r_max)\n",
    "REG_mean_thompson, w_thompson = thompson(a,theta_,r,r_max)\n",
    "REG_mean_greedy, w_greedy = epsilon_greedy(a,theta_,r,r_max,ep)"
   ]
  },
  {
   "cell_type": "code",
   "execution_count": 4,
   "id": "2baa4919",
   "metadata": {},
   "outputs": [
    {
     "name": "stdout",
     "output_type": "stream",
     "text": [
      "[2.99979602 0.98182956]\n",
      "[3.00962763 1.06740122]\n",
      "[2.99970018 0.98221077]\n"
     ]
    }
   ],
   "source": [
    "print(w_linucb)\n",
    "print(w_thompson)\n",
    "print(w_greedy)"
   ]
  },
  {
   "cell_type": "markdown",
   "id": "1f7cbb21",
   "metadata": {},
   "source": [
    "まず、三つのアルゴリズムから導いた$\\widehat\\theta$をみる。\n",
    "導いた$\\widehat\\theta$は$\\theta^*=[3,1]$に近いである。"
   ]
  },
  {
   "cell_type": "code",
   "execution_count": 5,
   "id": "75cc8724",
   "metadata": {},
   "outputs": [
    {
     "data": {
      "text/plain": [
       "<matplotlib.legend.Legend at 0x7fbdb845f0d0>"
      ]
     },
     "execution_count": 5,
     "metadata": {},
     "output_type": "execute_result"
    },
    {
     "data": {
      "image/png": "[encoded data removed]",
      "text/plain": [
       "<Figure size 432x288 with 1 Axes>"
      ]
     },
     "metadata": {
      "needs_background": "light"
     },
     "output_type": "display_data"
    }
   ],
   "source": [
    "# linucbとthompson samplingアルゴリズムの学習曲線\n",
    "plt.plot(range(99),REG_mean_thompson,color='blue', label = 'thompson sampling')\n",
    "plt.plot(range(99),REG_mean_linucb,color='red', label = 'linucb')\n",
    "plt.legend()"
   ]
  },
  {
   "cell_type": "markdown",
   "id": "8486c868",
   "metadata": {},
   "source": [
    "linucbとthompson samplingアルゴリズム学習曲線を見ると、LinUCBがthompson samplingより収束が早い、リグレットが小さい。"
   ]
  },
  {
   "cell_type": "code",
   "execution_count": 6,
   "id": "a18cb6f7",
   "metadata": {},
   "outputs": [
    {
     "data": {
      "text/plain": [
       "<matplotlib.legend.Legend at 0x7fbd88156150>"
      ]
     },
     "execution_count": 6,
     "metadata": {},
     "output_type": "execute_result"
    },
    {
     "data": {
      "image/png": "[encoded data removed]",
      "text/plain": [
       "<Figure size 432x288 with 1 Axes>"
      ]
     },
     "metadata": {
      "needs_background": "light"
     },
     "output_type": "display_data"
    }
   ],
   "source": [
    "# linucb、thompson samplingと貪欲アルゴリズムの学習曲線\n",
    "plt.plot(range(99),REG_mean_greedy,color='green', label = 'epsilon greedy')\n",
    "plt.plot(range(99),REG_mean_thompson,color='blue', label = 'thompson sampling')\n",
    "plt.plot(range(99),REG_mean_linucb,color='red', label = 'linucb')\n",
    "plt.legend()"
   ]
  },
  {
   "cell_type": "markdown",
   "id": "8ca55eaf",
   "metadata": {},
   "source": [
    "linucb、thompson samplingとepsilon greedyアルゴリズム学習曲線を見ると、linucbとthompson samplingの学習曲線はほぼ同じである。貪欲アルゴリズムは他の二つのアルゴリズムよりリグレットがすごく高いである。"
   ]
  }
 ],
 "metadata": {
  "kernelspec": {
   "display_name": "Python 3",
   "language": "python",
   "name": "python3"
  },
  "language_info": {
   "codemirror_mode": {
    "name": "ipython",
    "version": 3
   },
   "file_extension": ".py",
   "mimetype": "text/x-python",
   "name": "python",
   "nbconvert_exporter": "python",
   "pygments_lexer": "ipython3",
   "version": "3.7.10"
  }
 },
 "nbformat": 4,
 "nbformat_minor": 5
}
